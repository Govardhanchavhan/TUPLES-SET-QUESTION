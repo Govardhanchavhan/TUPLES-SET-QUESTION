{
  "nbformat": 4,
  "nbformat_minor": 0,
  "metadata": {
    "colab": {
      "provenance": []
    },
    "kernelspec": {
      "name": "python3",
      "display_name": "Python 3"
    },
    "language_info": {
      "name": "python"
    }
  },
  "cells": [
    {
      "cell_type": "markdown",
      "source": [
        "# TUPLES QUESTION\n",
        "QUE :- 1. Write a program to create a tuple and print its element?\n"
      ],
      "metadata": {
        "id": "RwOlZy63Emm_"
      }
    },
    {
      "cell_type": "code",
      "execution_count": 1,
      "metadata": {
        "colab": {
          "base_uri": "https://localhost:8080/"
        },
        "id": "VEce6RPnC-8q",
        "outputId": "e10748b4-8406-45f1-eccb-ace1754183ab"
      },
      "outputs": [
        {
          "output_type": "stream",
          "name": "stdout",
          "text": [
            "Python\n",
            "Spark\n",
            "Pandas\n",
            "Java\n"
          ]
        }
      ],
      "source": [
        "tuples =(\"Python\", \"Spark\",\n",
        "         \"Pandas\", \"Java\")\n",
        "\n",
        "index = 0\n",
        "\n",
        "while index< len (tuples):\n",
        "  print(tuples[index])\n",
        "  index =index + 1"
      ]
    },
    {
      "cell_type": "markdown",
      "source": [
        "QUE :- 2. Find the length of a tuple?\n"
      ],
      "metadata": {
        "id": "VwFZIIDFF3cB"
      }
    },
    {
      "cell_type": "code",
      "source": [
        "t = (1,2,3,4,5,67)\n",
        "l =0\n",
        "for i in t:\n",
        "  l += 1\n",
        "\n",
        "print(\"Length :,1\")"
      ],
      "metadata": {
        "colab": {
          "base_uri": "https://localhost:8080/"
        },
        "id": "eJF9XYVpFwPG",
        "outputId": "2d7a90bb-8ece-47d7-b167-76e6b3dd95f9"
      },
      "execution_count": 9,
      "outputs": [
        {
          "output_type": "stream",
          "name": "stdout",
          "text": [
            "Length :,1\n"
          ]
        }
      ]
    },
    {
      "cell_type": "markdown",
      "source": [
        "QUE :- 3. Convert a tuple to a list and vice versa?\n"
      ],
      "metadata": {
        "id": "fPbh--2fG7iz"
      }
    },
    {
      "cell_type": "code",
      "source": [
        "l = [1,2,3,4,5,6,8]\n",
        "print(l)\n",
        "t = tuple(l)\n",
        "print(t)"
      ],
      "metadata": {
        "colab": {
          "base_uri": "https://localhost:8080/"
        },
        "id": "tbFzOUewGbBE",
        "outputId": "fdb1d5f4-12a0-4956-821f-f1cdec3acfbd"
      },
      "execution_count": 10,
      "outputs": [
        {
          "output_type": "stream",
          "name": "stdout",
          "text": [
            "[1, 2, 3, 4, 5, 6, 8]\n",
            "(1, 2, 3, 4, 5, 6, 8)\n"
          ]
        }
      ]
    },
    {
      "cell_type": "markdown",
      "source": [
        "QUE :- 4. Write a program to find the maximum and minimum elements in a tuple?"
      ],
      "metadata": {
        "id": "RK00WlV2H09N"
      }
    },
    {
      "cell_type": "code",
      "source": [
        "t1 = (1,2,3,4,5,6,8)\n",
        "print(\"Max number:\", max(t))\n",
        "\n",
        "t2 =(6,9,7,3,2)\n",
        "print(\"Min number:\", min(t))"
      ],
      "metadata": {
        "colab": {
          "base_uri": "https://localhost:8080/"
        },
        "id": "ukOjdp6wHwqL",
        "outputId": "21fbeee0-575e-4aad-e8cc-c3b8b191074f"
      },
      "execution_count": 13,
      "outputs": [
        {
          "output_type": "stream",
          "name": "stdout",
          "text": [
            "Max number: 8\n",
            "Min number: 1\n"
          ]
        }
      ]
    },
    {
      "cell_type": "markdown",
      "source": [
        "QUE :- 5. Create a tuple of number and calculate their sum?\n"
      ],
      "metadata": {
        "id": "qXVhMky3J5l3"
      }
    },
    {
      "cell_type": "code",
      "source": [
        "tuples = (2,3,5,7,8,9)\n",
        "sum = 0\n",
        "for num in tuples:\n",
        "  sum += num\n",
        "print(sum)\n"
      ],
      "metadata": {
        "colab": {
          "base_uri": "https://localhost:8080/"
        },
        "id": "JeO4IrdGJCxn",
        "outputId": "6ff9ce01-a587-4669-8237-d45cbb414b4d"
      },
      "execution_count": 14,
      "outputs": [
        {
          "output_type": "stream",
          "name": "stdout",
          "text": [
            "34\n"
          ]
        }
      ]
    },
    {
      "cell_type": "markdown",
      "source": [
        "QUE :- 6. Write a program to slice a tuple?"
      ],
      "metadata": {
        "id": "sNwaLlo4LFUQ"
      }
    },
    {
      "cell_type": "code",
      "source": [
        "a = (1,2,3,4,5,6,7,8,9)\n",
        "print(\"Tuple\")\n",
        "\n",
        "b = len(a)\n",
        "for i in range (b):\n",
        "  print(i, \"=\", a[i])\n",
        "print()\n",
        "\n",
        "print(\"lst to 5th position \")\n",
        "x= a[1:6]\n",
        "for i in x:\n",
        "  print(i)\n",
        "print()\n",
        "\n",
        "print(\"2th to last position\")\n",
        "y= a[2:]\n",
        "for i in y:\n",
        "  print(i)\n",
        "print()"
      ],
      "metadata": {
        "colab": {
          "base_uri": "https://localhost:8080/"
        },
        "id": "bRHLviP9LB9p",
        "outputId": "dbc98609-04cb-4811-d3c5-e67c0d23f312"
      },
      "execution_count": 15,
      "outputs": [
        {
          "output_type": "stream",
          "name": "stdout",
          "text": [
            "Tuple\n",
            "0 = 1\n",
            "1 = 2\n",
            "2 = 3\n",
            "3 = 4\n",
            "4 = 5\n",
            "5 = 6\n",
            "6 = 7\n",
            "7 = 8\n",
            "8 = 9\n",
            "\n",
            "lst to 5th position \n",
            "2\n",
            "3\n",
            "4\n",
            "5\n",
            "6\n",
            "\n",
            "2th to last position\n",
            "3\n",
            "4\n",
            "5\n",
            "6\n",
            "7\n",
            "8\n",
            "9\n",
            "\n"
          ]
        }
      ]
    },
    {
      "cell_type": "markdown",
      "source": [
        "QUE :- 7. Merge two tuples into one?\n"
      ],
      "metadata": {
        "id": "NP35KMuyNWTC"
      }
    },
    {
      "cell_type": "code",
      "source": [
        "l1 =[1,2,3]\n",
        "s1 = {\"python\", \"java\", \"c++\"}\n",
        "t1 =(10,20,30)\n",
        "l2 ={*l1, *s1, *t1}\n",
        "print(l2)"
      ],
      "metadata": {
        "colab": {
          "base_uri": "https://localhost:8080/"
        },
        "id": "RrhpP-1yNOkG",
        "outputId": "6d5411c9-5a19-4091-a66d-e2b99de10a8c"
      },
      "execution_count": 16,
      "outputs": [
        {
          "output_type": "stream",
          "name": "stdout",
          "text": [
            "{1, 2, 3, 10, 20, 'c++', 'python', 30, 'java'}\n"
          ]
        }
      ]
    },
    {
      "cell_type": "markdown",
      "source": [
        "QUE :- 8. Check if an element exists in a tuple?\n"
      ],
      "metadata": {
        "id": "Fg0DhDnbOgzh"
      }
    },
    {
      "cell_type": "code",
      "source": [
        "tuple = (\"t\",3 , \"s\", \"o\")\n",
        "print(\"s\" in tuple)\n",
        "print(5 in tuple)"
      ],
      "metadata": {
        "colab": {
          "base_uri": "https://localhost:8080/"
        },
        "id": "0ZTHYDiPOee8",
        "outputId": "099994e1-7b12-48e8-b508-5484db84058d"
      },
      "execution_count": 17,
      "outputs": [
        {
          "output_type": "stream",
          "name": "stdout",
          "text": [
            "True\n",
            "False\n"
          ]
        }
      ]
    },
    {
      "cell_type": "markdown",
      "source": [
        "QUE :- 9. Create a tuple and find its index of a specific elements?\n",
        "\n",
        "\n"
      ],
      "metadata": {
        "id": "IwqA9u1sPXlj"
      }
    },
    {
      "cell_type": "code",
      "source": [
        "t = (1,2,3,4,7,9,8,4,5,6,3,2,1)\n",
        "\n",
        "print(t. index(1))\n",
        "print(t. index(2))\n",
        "print(t. index(3))\n",
        "print(t. index(4))\n"
      ],
      "metadata": {
        "colab": {
          "base_uri": "https://localhost:8080/"
        },
        "id": "W_4bzcPuPU1D",
        "outputId": "efae92a4-2dd2-4a46-8acf-c7faaf166d3d"
      },
      "execution_count": 18,
      "outputs": [
        {
          "output_type": "stream",
          "name": "stdout",
          "text": [
            "0\n",
            "1\n",
            "2\n",
            "3\n"
          ]
        }
      ]
    },
    {
      "cell_type": "markdown",
      "source": [
        "QUE :- 10. Write a program to count the occurrences of anelements in a tuple?"
      ],
      "metadata": {
        "id": "1kxkA3CaQH2v"
      }
    },
    {
      "cell_type": "code",
      "source": [
        "import collections\n",
        "test_type = [[('hii', 'ok')] , [('bye', 'seems')], [('hii', 'ok')]]\n",
        "\n",
        "res = collections.defaultdict(int)\n",
        "for ele in test_type:\n",
        "  res [ele[0]] += 1\n",
        "print(res)"
      ],
      "metadata": {
        "colab": {
          "base_uri": "https://localhost:8080/"
        },
        "id": "ef2J7bJyQFki",
        "outputId": "f7dc1052-512d-42a1-b75d-3981ac97a452"
      },
      "execution_count": 35,
      "outputs": [
        {
          "output_type": "stream",
          "name": "stdout",
          "text": [
            "defaultdict(<class 'int'>, {('hii', 'ok'): 2, ('bye', 'seems'): 1})\n"
          ]
        }
      ]
    },
    {
      "cell_type": "code",
      "source": [],
      "metadata": {
        "id": "bmPN7lCHRTPy"
      },
      "execution_count": null,
      "outputs": []
    }
  ]
}